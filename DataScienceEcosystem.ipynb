{
  "metadata": {
    "kernelspec": {
      "name": "python",
      "display_name": "Python (Pyodide)",
      "language": "python"
    },
    "language_info": {
      "codemirror_mode": {
        "name": "python",
        "version": 3
      },
      "file_extension": ".py",
      "mimetype": "text/x-python",
      "name": "python",
      "nbconvert_exporter": "python",
      "pygments_lexer": "ipython3",
      "version": "3.8"
    }
  },
  "nbformat_minor": 4,
  "nbformat": 4,
  "cells": [
    {
      "cell_type": "markdown",
      "source": "У цьому блокноті підсумовані інструменти та екосистема даних.\nДеякі з популярних мов, які використовують науковці з даних, це:\n<ol>\n    <li>Python;</li>\n    <li>C++:</li>\n    <li>Julia;</li>\n    <li>Java.</li>\n</ol>\n<h1> Objectives:</h1>\n<h2>List popular languages for Data Science.</h2>\n<ul>\n   <li>python</li>\n    <li>java</li>\n    <li>julia</li>\n</ul>\n<body>Деякі з загальновживаних бібліотек, які використовують науковці з даних, включають:</body>\n<ol> \n    <li>Pandas;</li>\n    <li>TensorFlow;</li>\n    <li>Keras.</li>\n    </ol>\n",
      "metadata": {}
    },
    {
      "cell_type": "markdown",
      "source": "<table>\n    <td>Інструменти даних</td>\n    <td>Jupiter notebook</td>\n    <td>SAS</td>\n    <td>Tableau</td>\n</table>",
      "metadata": {}
    },
    {
      "cell_type": "code",
      "source": "<h3>Below are a few examples of evaluating arithmetic expressions in Python:</h3>",
      "metadata": {
        "trusted": true
      },
      "outputs": [],
      "execution_count": null
    },
    {
      "cell_type": "code",
      "source": " This a simple arithmetic expression to mutiply then add integers.",
      "metadata": {
        "trusted": true
      },
      "outputs": [],
      "execution_count": null
    },
    {
      "cell_type": "code",
      "source": "(3*4)+5",
      "metadata": {
        "trusted": true
      },
      "outputs": [
        {
          "execution_count": 4,
          "output_type": "execute_result",
          "data": {
            "text/plain": "17"
          },
          "metadata": {}
        }
      ],
      "execution_count": 4
    },
    {
      "cell_type": "code",
      "source": " This will convert 200 minutes to hours by diving by 60",
      "metadata": {
        "trusted": true
      },
      "outputs": [
        {
          "ename": "<class 'SyntaxError'>",
          "evalue": "invalid syntax (<ipython-input-5-61c3f375fb64>, line 1)",
          "traceback": [
            "\u001b[0;36m  Cell \u001b[0;32mIn[5], line 1\u001b[0;36m\u001b[0m\n\u001b[0;31m    This will convert 200 minutes to hours by diving by 60\u001b[0m\n\u001b[0m         ^\u001b[0m\n\u001b[0;31mSyntaxError\u001b[0m\u001b[0;31m:\u001b[0m invalid syntax\n"
          ],
          "output_type": "error"
        }
      ],
      "execution_count": 5
    },
    {
      "cell_type": "code",
      "source": "",
      "metadata": {
        "trusted": true
      },
      "outputs": [
        {
          "ename": "<class 'SyntaxError'>",
          "evalue": "illegal target for annotation (<ipython-input-7-28dda899c93e>, line 1)",
          "traceback": [
            "\u001b[0;36m  Cell \u001b[0;32mIn[7], line 1\u001b[0;36m\u001b[0m\n\u001b[0;31m    200: 60\u001b[0m\n\u001b[0m    ^\u001b[0m\n\u001b[0;31mSyntaxError\u001b[0m\u001b[0;31m:\u001b[0m illegal target for annotation\n"
          ],
          "output_type": "error"
        }
      ],
      "execution_count": 7
    },
    {
      "cell_type": "markdown",
      "source": "<h2>Author</h2>\n<body>Myroslava</body>",
      "metadata": {}
    },
    {
      "cell_type": "code",
      "source": "",
      "metadata": {
        "trusted": true
      },
      "outputs": [],
      "execution_count": null
    }
  ]
}