{
  "metadata": {
    "kernelspec": {
      "name": "python",
      "display_name": "Python (Pyodide)",
      "language": "python"
    },
    "language_info": {
      "codemirror_mode": {
        "name": "python",
        "version": 3
      },
      "file_extension": ".py",
      "mimetype": "text/x-python",
      "name": "python",
      "nbconvert_exporter": "python",
      "pygments_lexer": "ipython3",
      "version": "3.8"
    }
  },
  "nbformat_minor": 4,
  "nbformat": 4,
  "cells": [
    {
      "cell_type": "markdown",
      "source": "<h1>Data Science Tools and Ecosystem</h1>\n\n<body> In this notebook, Data Science Tools and Ecosystem are summarized.\nSome of the popular languages that Data Scientists use are:</body>\n<ol>\n    <li>Python;</li>\n    <li>C++:</li>\n    <li>Julia;</li>\n    <li>Java.</li>\n</ol>\n<h1> Objectives:</h1>\n<h2>List popular languages for Data Science.</h2>\n<ul>\n   <li>python</li>\n    <li>java</li>\n    <li>julia</li>\n</ul>\n<body>Some of the commonly used libraries used by Data Scientists include:</body>\n<ol> \n    <li>Pandas;</li>\n    <li>TensorFlow;</li>\n    <li>Keras.</li>\n    </ol>\n",
      "metadata": {}
    },
    {
      "cell_type": "markdown",
      "source": "<table>\n    <caption><h2>Data Science Tools</h2></caption>\n    <tr>\n        <th>Jupiter notebook</th>\n    </tr>\n  <tr>\n      <td>SAS</td>\n  </tr>\n    <tr>\n    <td>Tableau</td>\n    </tr>\n</table>",
      "metadata": {}
    },
    {
      "cell_type": "markdown",
      "source": "<h3>Below are a few examples of evaluating arithmetic expressions in Python:</h3>",
      "metadata": {}
    },
    {
      "cell_type": "code",
      "source": " #This a simple arithmetic expression to mutiply then add integers.",
      "metadata": {
        "trusted": true
      },
      "outputs": [],
      "execution_count": null
    },
    {
      "cell_type": "code",
      "source": "(3*4)+5",
      "metadata": {
        "trusted": true
      },
      "outputs": [
        {
          "execution_count": 4,
          "output_type": "execute_result",
          "data": {
            "text/plain": "17"
          },
          "metadata": {}
        }
      ],
      "execution_count": 4
    },
    {
      "cell_type": "code",
      "source": "minutes = 200\nhours = minutes / 60\nprint(hours) #this will convert 200 minutes to hours by diving by 60",
      "metadata": {
        "trusted": true
      },
      "outputs": [
        {
          "name": "stdout",
          "text": "3.3333333333333335\n",
          "output_type": "stream"
        }
      ],
      "execution_count": 8
    },
    {
      "cell_type": "markdown",
      "source": "<h2>Author</h2>\n<body>Myroslava</body>",
      "metadata": {}
    },
    {
      "cell_type": "code",
      "source": "",
      "metadata": {
        "trusted": true
      },
      "outputs": [],
      "execution_count": null
    }
  ]
}